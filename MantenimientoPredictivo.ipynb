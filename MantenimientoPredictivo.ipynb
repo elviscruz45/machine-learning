{
  "nbformat": 4,
  "nbformat_minor": 0,
  "metadata": {
    "colab": {
      "provenance": [],
      "toc_visible": true,
      "authorship_tag": "ABX9TyM1ikIOUXVBn7Gn25ux5Vp4",
      "include_colab_link": true
    },
    "kernelspec": {
      "name": "python3",
      "display_name": "Python 3"
    },
    "language_info": {
      "name": "python"
    }
  },
  "cells": [
    {
      "cell_type": "markdown",
      "metadata": {
        "id": "view-in-github",
        "colab_type": "text"
      },
      "source": [
        "<a href=\"https://colab.research.google.com/github/elviscruz45/machine-learning/blob/master/MantenimientoPredictivo.ipynb\" target=\"_parent\"><img src=\"https://colab.research.google.com/assets/colab-badge.svg\" alt=\"Open In Colab\"/></a>"
      ]
    },
    {
      "cell_type": "markdown",
      "source": [
        "Clasificación binaria de fallas de máquina utilizando aprendizaje profundo."
      ],
      "metadata": {
        "id": "Q6-qmG4hIC2c"
      }
    },
    {
      "cell_type": "markdown",
      "source": [
        "En esta libreta intentaré abordar un problema de clasificación binaria utilizando un conjunto de datos que contiene información sobre fallos de máquinas. La métrica utilizada será el AUC-ROC (área bajo la curva ROC) y utilizaré un modelo de aprendizaje profundo de la biblioteca Keras Tensorflow.\n",
        "\n",
        "\n",
        "\n",
        "\n",
        "\n"
      ],
      "metadata": {
        "id": "niMhmS8IIGOd"
      }
    },
    {
      "cell_type": "markdown",
      "source": [
        "Resumen"
      ],
      "metadata": {
        "id": "2UKKzgrSIMzu"
      }
    },
    {
      "cell_type": "markdown",
      "source": [
        "Sobre el conjunto de datos;\n",
        "\n",
        "*  Importación de bibliotecas;\n",
        "\n",
        "*   Análisis exploratorio de datos e ingeniería de características;\n",
        "* Modelado;\n",
        "* Ajuste;\n",
        "* Resultados.\n",
        "\n",
        "\n",
        "\n",
        "\n",
        "\n",
        "\n",
        "\n",
        "\n"
      ],
      "metadata": {
        "id": "eqemhbHyIRbj"
      }
    },
    {
      "cell_type": "markdown",
      "source": [
        "Sobre el conjunto de datos\n",
        "\n",
        "\n"
      ],
      "metadata": {
        "id": "G5Ao8QpuIg2z"
      }
    },
    {
      "cell_type": "markdown",
      "source": [
        "\n",
        "El conjunto de datos para esta competencia (tanto de entrenamiento como de prueba) fue generado a partir de un modelo de aprendizaje profundo entrenado en las Predicciones de Fallas de Máquinas (https://www.kaggle.com/datasets/dineshmanikanta/machine-failure-predictions).\n",
        "\n",
        "Formato de archivo:\n",
        "\n",
        "La falla de la máquina es el objetivo (binario) (que, para alinearse con el ordenamiento del conjunto de datos original, no está en la última posición de la columna);\n",
        "train.csv - el conjunto de datos de entrenamiento;\n",
        "test.csv - el conjunto de datos de prueba;\n",
        "Su objetivo es predecir la probabilidad de falla de la máquina;\n",
        "sample_submission.csv - un archivo de muestra de presentación en el formato correcto.\n",
        "La tabla a continuación muestra cada columna y su descripción (Obtuve esta información de aquí: https://github.com/JMViJi/Binary-Classification-of-Machine-Failures)"
      ],
      "metadata": {
        "id": "ilA2T2CEIh2B"
      }
    },
    {
      "cell_type": "markdown",
      "source": [],
      "metadata": {
        "id": "XxBnjK_bIpR7"
      }
    },
    {
      "cell_type": "markdown",
      "source": [
        "| Column Header          | Description                                                                                                            |\n",
        "|------------------------|------------------------------------------------------------------------------------------------------------------------|\n",
        "| 'id'                   | This is a unique identifier assigned to each record in the dataset. It helps in indexing and referencing each individual record. |\n",
        "| 'Product Id'           | Combination of the 'Type' variable followed by an identifier number.                                                     |\n",
        "| 'Type'                 | Refers to the type of machine for which the readings are recorded. Understanding the machine type can provide insights into its operations, which in turn can be linked to the probability of failure. |\n",
        "| 'Air temperature [K]'  | Ambient temperature around the machine, measured in Kelvin. Could influence machine behavior under different ambient conditions. |\n",
        "| 'Process temperature [K]' | Temperature of the process in which the machine is engaged, measured in Kelvin. Certain processes might lead to increased machine heat and failure likelihood. |\n",
        "| 'Rotational speed [rpm]' | Operating speed of the machine, measured in rotations per minute (rpm). Higher speeds could contribute to increased wear and tear. |\n",
        "| 'Torque [Nm]'          | Measure of the force causing the machine to rotate, expressed in Newton meters (Nm). High torque might indicate higher load and increased failure risk. |\n",
        "| 'Tool wear [min]'      | Indicates the degree of wear and tear experienced by the machine, measured in minutes. High tool wear may suggest the need for maintenance. |\n",
        "| 'Machine failure'      | Target variable: binary indicator specifying whether the machine failed (1) or not (0). |\n",
        "| 'TWF'                  | Tool wear failure: indicates whether the machine failed due to tool wear.                                               |\n",
        "| 'HDF'                  | Heat dissipation failure: indicates whether the machine failed due to inadequate heat dissipation.                      |\n",
        "| 'PWF'                  | Power failure: indicates whether the machine failed due to power-related issues.                                       |\n",
        "| 'OSF'                  | Overstrain failure: indicates whether the machine failed due to overstraining.                                         |\n",
        "| 'RNF'                  | Random failure: indicates whether the machine failed due to a random, unspecified issue.                               |"
      ],
      "metadata": {
        "id": "v9gAgoXFJPq7"
      }
    },
    {
      "cell_type": "code",
      "execution_count": null,
      "metadata": {
        "id": "hQJKTLAH72Kh"
      },
      "outputs": [],
      "source": [
        "Binary classification of machine failure using deep learning\n",
        "In this notebook I'll try to tackle a binary classification problem of a dataset containing data of machine failures. The metric used will be AUC-ROC (area under the ROC curve) and I'll be using a deep learning model from Keras Tensorflow library.\n",
        "\n"
      ]
    }
  ]
}